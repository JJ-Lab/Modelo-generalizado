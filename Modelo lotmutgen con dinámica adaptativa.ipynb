{
 "cells": [
  {
   "cell_type": "markdown",
   "metadata": {},
   "source": [
    "## Evolutionary generalized model with adaptive behaviour "
   ]
  },
  {
   "cell_type": "code",
   "execution_count": 1,
   "metadata": {
    "collapsed": true
   },
   "outputs": [],
   "source": [
    "import matplotlib.pyplot as plt\n",
    "import numpy as np\n",
    "from ipywidgets import interact, interactive, fixed\n",
    "from sympy.solvers import solve\n",
    "from sympy import *"
   ]
  },
  {
   "cell_type": "code",
   "execution_count": 2,
   "metadata": {},
   "outputs": [],
   "source": [
    "x,y,r1,r2,b12,b21 = symbols('x,y,r1,r2,b12,b21')\n",
    "#\n",
    "# Esta función sirve para:\n",
    "# 1. Indicar las soluciones xsol,ysol de la ecuación X((r1+b12Y)-(a1+b12Yc1)X)==0 y Y((r2+b21X)-(a2+b21Xc2)Y)==0\n",
    "# 2. Definir las funciones b12s y b21s, que representan a b12 y b21 en función de r1 y r1 y el trade-off (lineal)\n",
    "# 3. Calcular las derivadas. Introducimos l como factor para diferenciar ambas derivadas.\n",
    "#\n",
    "def definitions(a1,a2,c1,c2,p1,q1,p2,q2,l):\n",
    "        global xsol1,ysol1,xsol2,ysol2,b12s,b21s,ddr1,ddr2\n",
    "        xsol1 = (-a1*a2 + b12*b21 + b21*c2*r1 - b12*c1*r2 +\n",
    "                sqrt(4*b21*(b12*c1 + a1*c2)*(a2*r1 + b12*r2) +\n",
    "                (a1*a2 - b21*(b12 + c2*r1) + b12*c1*r2)**2)) / (2*b21*(b12*c1 + a1*c2))\n",
    "        ysol1 = (-a1*a2 + b12*b21 - b21*c2*r1 + b12*c1*r2 +\n",
    "                sqrt(4*b21*(b12*c1 + a1*c2)*(a2*r1 + b12*r2) +\n",
    "                (a1*a2 - b21*(b12 + c2*r1) + b12*c1*r2)**2)) / (2*b12*(a2*c1 + b21*c2))\n",
    "        xsol2 = (-a1*a2 + b12*b21 + b21*c2*r1 - b12*c1*r2 -\n",
    "                sqrt(4*b21*(b12*c1 + a1*c2)*(a2*r1 + b12*r2) +\n",
    "                (a1*a2 - b21*(b12 + c2*r1) + b12*c1*r2)**2)) / (2*b21*(b12*c1 + a1*c2))\n",
    "        ysol2 = (-a1*a2 + b12*b21 - b21*c2*r1 + b12*c1*r2 -\n",
    "                sqrt(4*b21*(b12*c1 + a1*c2)*(a2*r1 + b12*r2) +\n",
    "                (a1*a2 - b21*(b12 + c2*r1) + b12*c1*r2)**2)) / (2*b12*(a2*c1 + b21*c2))\n",
    "        b12s = q1 - p1*r1\n",
    "        b21s = q2 - p2*r2\n",
    "        ddr1 = (diff(xsol1,r1) + diff(xsol1,b12)*diff(b12s,r1)).subs({b12:b12s,b21:b21s})\n",
    "        ddr2 = l*(diff(ysol1,r2) + diff(ysol1,b21)*diff(b21s,r2)).subs({b12:b12s,b21:b21s})"
   ]
  },
  {
   "cell_type": "code",
   "execution_count": 3,
   "metadata": {
    "collapsed": true
   },
   "outputs": [],
   "source": [
    "#\n",
    "# Inicializamos las listas de r1 y r2 con valores introducidos a mano. Luego inicializamos las listas de b12 y b21 despejando\n",
    "# sus valores de b12s y b21s, sustituyendo lo que tenemos ahora como r1 y r2. Calculamos las poblaciones con estos valores.\n",
    "#\n",
    "def ini(rr1,rr2):\n",
    "    global r1list,r2list,b12list,b21list,xolist,yolist\n",
    "    r1list = [rr1]\n",
    "    r2list = [rr2]\n",
    "    b12list = [b12s.subs(r1,r1list[-1])]\n",
    "    b21list = [b21s.subs(r2,r2list[-1])]\n",
    "    xolist = [xsol1.subs({r1:r1list[-1],r2:r2list[-1],b12:b12list[-1],b21:b21list[-1]})]\n",
    "    yolist = [ysol1.subs({r1:r1list[-1],r2:r2list[-1],b12:b12list[-1],b21:b21list[-1]})]"
   ]
  },
  {
   "cell_type": "code",
   "execution_count": 4,
   "metadata": {},
   "outputs": [],
   "source": [
    "#\n",
    "# Usamos como referencia el último valor de las listas r1 y r2 y con ellos calculamos: los nuevos valores de r1 y r2, en función\n",
    "# de las derivadas; los nuevos valores de b12, b21 y las poblaciones, a partir de estos nuevos r1 y r2. Iteramos.\n",
    "#\n",
    "def bucle(pasos,escala):\n",
    "    global r1list,r2list,b12list,b21list,xolist,yolist\n",
    "    for i in range(pasos):\n",
    "        r1u = r1list[-1]\n",
    "        r2u = r2list[-1]\n",
    "        r1list.append(r1u + escala*ddr1.subs({r1:r1u,r2:r2u})) # estamos usando una escala temporal ya que los cambios en los\n",
    "        r2list.append(r2u + escala*ddr2.subs({r1:r1u,r2:r2u})) # parámetros se dan muy lentamente; facilita la visualización.\n",
    "        b12list.append(b12s.subs(r1,r1list[-1]))\n",
    "        b21list.append(b21s.subs(r2,r2list[-1]))\n",
    "        xolist.append(xsol1.subs({r1:r1list[-1],r2:r2list[-1],b12:b12list[-1],b21:b21list[-1]}))\n",
    "        yolist.append(ysol1.subs({r1:r1list[-1],r2:r2list[-1],b12:b12list[-1],b21:b21list[-1]}))"
   ]
  },
  {
   "cell_type": "code",
   "execution_count": 8,
   "metadata": {},
   "outputs": [],
   "source": [
    "def plotnstats():\n",
    "    plt.clf()\n",
    "    plt.axhline(0, linewidth=0.75, color='black')\n",
    "    plt.plot(range(len(r1list)),r1list,'c--')\n",
    "    plt.plot(range(len(r2list)),r2list,'b-.')\n",
    "    plt.plot(range(len(b12list)),[i*100 for i in b12list],'m-') # estoy multiplicando b12 y b21 por 100 para re-escalarlo\n",
    "    plt.plot(range(len(b21list)),[i*100 for i in b21list],'y.') # y que aparezcan en el mismo rango de r1 y r2\n",
    "    plt.legend(['r1','r2','b12x10^-2','b21x10^-2'], loc='best') # esto facilita la visualización de dichas variables \n",
    "    plt.axis('tight')\n",
    "    plt.xlabel('Time (a.u.)')\n",
    "    plt.ylabel('Control parameters')\n",
    "    plt.show()\n",
    "    plt.clf()\n",
    "    plt.plot(range(len(xolist)),xolist,'g.')\n",
    "    plt.plot(range(len(yolist)),yolist,'r.')\n",
    "    plt.legend(['Xo','Yo'], loc='best')\n",
    "    plt.axis('tight')\n",
    "    plt.xlabel('Time (a.u.)')\n",
    "    plt.ylabel('Population size')\n",
    "    plt.show()"
   ]
  },
  {
   "cell_type": "code",
   "execution_count": 9,
   "metadata": {},
   "outputs": [],
   "source": [
    "definitions(0.0001,0.0001,0.001,0.001,0.01,0.0005,0.01,0.0005,2)\n",
    "ini(0.088,-0.5)\n",
    "bucle(50,0.000001)"
   ]
  },
  {
   "cell_type": "code",
   "execution_count": 10,
   "metadata": {},
   "outputs": [
    {
     "data": {
      "image/png": "[encoded data removed]",
      "text/plain": [
       "<matplotlib.figure.Figure at 0x119060278>"
      ]
     },
     "metadata": {},
     "output_type": "display_data"
    },
    {
     "data": {
      "image/png": "[encoded data removed]",
      "text/plain": [
       "<matplotlib.figure.Figure at 0x1191934a8>"
      ]
     },
     "metadata": {},
     "output_type": "display_data"
    }
   ],
   "source": [
    "plotnstats()"
   ]
  },
  {
   "cell_type": "code",
   "execution_count": null,
   "metadata": {
    "collapsed": true
   },
   "outputs": [],
   "source": []
  }
 ],
 "metadata": {
  "kernelspec": {
   "display_name": "Python 3",
   "language": "python",
   "name": "python3"
  },
  "language_info": {
   "codemirror_mode": {
    "name": "ipython",
    "version": 3
   },
   "file_extension": ".py",
   "mimetype": "text/x-python",
   "name": "python",
   "nbconvert_exporter": "python",
   "pygments_lexer": "ipython3",
   "version": "3.6.0"
  }
 },
 "nbformat": 4,
 "nbformat_minor": 2
}
